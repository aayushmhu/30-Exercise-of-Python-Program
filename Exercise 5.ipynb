{
 "cells": [
  {
   "cell_type": "code",
   "execution_count": null,
   "metadata": {},
   "outputs": [],
   "source": [
    "'''\n",
    "Exercise , Number uessing Game\n",
    "Make a variable, like winning_number and assign any number to it.\n",
    "Ask user to guess a number.\n",
    "If User gussed correctly then:\n",
    "\tif user gussed lower than actual number then print \"too low\"\n",
    "\tif user gussed higher than actual number then print \"too high\"\n",
    "Google \"How to generate random number in python \" to generate random\n",
    "Winning number\n",
    "\n",
    "'''\n",
    "\n",
    "winning_number = 27\n",
    "user_input = input(\"Guess a Number b/w 1 to 100 : \")\n",
    "user_input = int(user_input)\n",
    "if user_input == winning_number:\n",
    "    print(\"Hurray!!!!!!! YOU WIN\")\n",
    "else:\n",
    "    if user_input < winning_number:\n",
    "        print(\"Too Low\")\n",
    "    else:\n",
    "        print(\"Too High\")"
   ]
  }
 ],
 "metadata": {
  "kernelspec": {
   "display_name": "Python 3",
   "language": "python",
   "name": "python3"
  },
  "language_info": {
   "codemirror_mode": {
    "name": "ipython",
    "version": 3
   },
   "file_extension": ".py",
   "mimetype": "text/x-python",
   "name": "python",
   "nbconvert_exporter": "python",
   "pygments_lexer": "ipython3",
   "version": "3.7.1"
  }
 },
 "nbformat": 4,
 "nbformat_minor": 2
}
