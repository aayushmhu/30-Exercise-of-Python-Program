{
 "cells": [
  {
   "cell_type": "code",
   "execution_count": null,
   "metadata": {},
   "outputs": [],
   "source": [
    "'''\n",
    "define generator function\n",
    "take one number as argument\n",
    "generate a sequence of even numbers from 1 to that number\n",
    "'''\n",
    "\n",
    "#Exercise  solutions\n",
    "def even_generator(n):\n",
    "    for num in range(1,n+1):\n",
    "        if num % 2 == 0:\n",
    "            yield(num)\n",
    "\n",
    "for number in even_generator(10):\n",
    "    print(number)\n",
    "\n",
    "\n",
    "#second Method\n",
    "def even_generator2(n):\n",
    "    for num in range(2, n+1, 2):\n",
    "        yield(num)\n",
    "\n",
    "for number in even_generator2(20):\n",
    "    print(number)"
   ]
  }
 ],
 "metadata": {
  "kernelspec": {
   "display_name": "Python 3",
   "language": "python",
   "name": "python3"
  },
  "language_info": {
   "codemirror_mode": {
    "name": "ipython",
    "version": 3
   },
   "file_extension": ".py",
   "mimetype": "text/x-python",
   "name": "python",
   "nbconvert_exporter": "python",
   "pygments_lexer": "ipython3",
   "version": "3.7.1"
  }
 },
 "nbformat": 4,
 "nbformat_minor": 2
}
