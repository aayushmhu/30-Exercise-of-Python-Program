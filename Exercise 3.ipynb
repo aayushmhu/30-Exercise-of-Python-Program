{
 "cells": [
  {
   "cell_type": "code",
   "execution_count": null,
   "metadata": {},
   "outputs": [],
   "source": [
    "'''\n",
    "Ask user name and print back user name in reverse order.\n",
    "note: Try to make your progrsm in 2 lines using string formsting.\n",
    "'''\n",
    "name = input(\"Enter your Name: \")\n",
    "#print(name[::-1])\n",
    "print(f\"Your Name is in Reverse {name[::-1]}\")\n"
   ]
  }
 ],
 "metadata": {
  "kernelspec": {
   "display_name": "Python 3",
   "language": "python",
   "name": "python3"
  },
  "language_info": {
   "codemirror_mode": {
    "name": "ipython",
    "version": 3
   },
   "file_extension": ".py",
   "mimetype": "text/x-python",
   "name": "python",
   "nbconvert_exporter": "python",
   "pygments_lexer": "ipython3",
   "version": "3.7.1"
  }
 },
 "nbformat": 4,
 "nbformat_minor": 2
}
