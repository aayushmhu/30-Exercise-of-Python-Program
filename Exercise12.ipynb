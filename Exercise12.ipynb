{
 "cells": [
  {
   "cell_type": "code",
   "execution_count": null,
   "metadata": {},
   "outputs": [],
   "source": [
    "#Exercise 2\n",
    "'''\n",
    "Define is_palindrome function that take one word in string as input and return True if it is palindrome else return False\n",
    "palindrome - Word that reads same backwards as forwards\n",
    "\n",
    "Example :\n",
    "is_palindrome(\"madam\") ==> True\n",
    "is_palindrome(\"naman\") ==> True\n",
    "is_palindrome(\"horse\") ==> False\n",
    "\n",
    "logic (algorithm)\n",
    "Step 1  --> reverse the string \n",
    "Step 2  --> compare reversed string wihh original string\n",
    "\n",
    "'''\n",
    "\n",
    "#Solutions\n",
    "#First Method\n",
    "def is_palindrome(a):\n",
    "    if a[::-1] == a[::1]:\n",
    "        return True\n",
    "    return False\n",
    "name = input(\"Enter a String for Check is palindrome or not palindrome : \")\n",
    "print(is_palindrome(name))\n",
    "#second  Method\n",
    "def is_palindrom(name):\n",
    "    return word == word[::-1]\n",
    "print(is_palindrome(name))"
   ]
  }
 ],
 "metadata": {
  "kernelspec": {
   "display_name": "Python 3",
   "language": "python",
   "name": "python3"
  },
  "language_info": {
   "codemirror_mode": {
    "name": "ipython",
    "version": 3
   },
   "file_extension": ".py",
   "mimetype": "text/x-python",
   "name": "python",
   "nbconvert_exporter": "python",
   "pygments_lexer": "ipython3",
   "version": "3.7.1"
  }
 },
 "nbformat": 4,
 "nbformat_minor": 2
}
