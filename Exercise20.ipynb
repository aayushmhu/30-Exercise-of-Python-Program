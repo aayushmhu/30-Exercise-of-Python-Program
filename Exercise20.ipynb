{
 "cells": [
  {
   "cell_type": "code",
   "execution_count": null,
   "metadata": {},
   "outputs": [],
   "source": [
    "#word counter dictionary Exercise\n",
    "'''\n",
    "user_info = {\n",
    "    'name' : 'Aayush',\n",
    "    'age' : 19,\n",
    "    'fav_movies' : ['coco' 'kimi no na wa'],\n",
    "    'fav_tunes' : ['awakening', 'fairy tale'],\n",
    "}\n",
    "\n",
    "print this type of dictionary by user input\n",
    "'''\n",
    "\n",
    "#exercise  solutions\n",
    "user = {}\n",
    "\n",
    "name = input(\"What is your name ? \")\n",
    "age = input(\"What is your age ? \")\n",
    "fav_movies = input(\"What is youe favrate Movies enter by comma seprated \").split(\",\")\n",
    "songs = input(\"What is youe favrate sons enter by comma seprated \").split(\",\")\n",
    "\n",
    "user['name'] = name\n",
    "user['age'] = age\n",
    "user['fav_movies'] = fav_movies\n",
    "user['songs'] = songs\n",
    "\n",
    "for key, value in user.items():\n",
    "    print(f\"{key} : {value} \")\n",
    "\n",
    "\n"
   ]
  }
 ],
 "metadata": {
  "kernelspec": {
   "display_name": "Python 3",
   "language": "python",
   "name": "python3"
  },
  "language_info": {
   "codemirror_mode": {
    "name": "ipython",
    "version": 3
   },
   "file_extension": ".py",
   "mimetype": "text/x-python",
   "name": "python",
   "nbconvert_exporter": "python",
   "pygments_lexer": "ipython3",
   "version": "3.7.1"
  }
 },
 "nbformat": 4,
 "nbformat_minor": 2
}
