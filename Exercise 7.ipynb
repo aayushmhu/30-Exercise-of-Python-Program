{
 "cells": [
  {
   "cell_type": "code",
   "execution_count": null,
   "metadata": {},
   "outputs": [],
   "source": [
    "\"\"\"\n",
    "\n",
    "Exercise one of three\n",
    "sum of n natural numbers \n",
    "ask a user for natural numbers(n)\n",
    "print total from 1 to n \n",
    "\n",
    "\"\"\"\n",
    "\n",
    "total = 0\n",
    "i = 1\n",
    "number = input(\"Enter Any Number you want to sum for natural numbers: \")\n",
    "number = int(number)\n",
    "while i <= number:\n",
    "    total = total + i\n",
    "    i = i + 1\n",
    "print(total)"
   ]
  }
 ],
 "metadata": {
  "kernelspec": {
   "display_name": "Python 3",
   "language": "python",
   "name": "python3"
  },
  "language_info": {
   "codemirror_mode": {
    "name": "ipython",
    "version": 3
   },
   "file_extension": ".py",
   "mimetype": "text/x-python",
   "name": "python",
   "nbconvert_exporter": "python",
   "pygments_lexer": "ipython3",
   "version": "3.7.1"
  }
 },
 "nbformat": 4,
 "nbformat_minor": 2
}
