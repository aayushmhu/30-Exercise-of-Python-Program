{
 "cells": [
  {
   "cell_type": "code",
   "execution_count": null,
   "metadata": {},
   "outputs": [],
   "source": [
    "'''\n",
    "problem\n",
    "ask user to input a number containing more than one digit\n",
    "example - 1256\n",
    "calculate 1+2+3+4 and print\n",
    "\n",
    "algorithm - (Method to solve problem in human language)\n",
    "ask input in string , i.e don't change string to int \n",
    "example - \"1256\"\n",
    "pick string character one by one and change to int \n",
    "int(example[0] + int(example[1] .... go upto len(example) -1\n",
    "'''\n",
    "\n",
    "total = 0\n",
    "i = 0\n",
    "number = input(\"Enter Any Number you want to sum for natural numbers: \")\n",
    "\n",
    "while i <= (len(number) - 1):\n",
    "    total = total + int(number[i])\n",
    "    i = i + 1\n",
    "print(total)"
   ]
  }
 ],
 "metadata": {
  "kernelspec": {
   "display_name": "Python 3",
   "language": "python",
   "name": "python3"
  },
  "language_info": {
   "codemirror_mode": {
    "name": "ipython",
    "version": 3
   },
   "file_extension": ".py",
   "mimetype": "text/x-python",
   "name": "python",
   "nbconvert_exporter": "python",
   "pygments_lexer": "ipython3",
   "version": "3.7.1"
  }
 },
 "nbformat": 4,
 "nbformat_minor": 2
}
