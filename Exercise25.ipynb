{
 "cells": [
  {
   "cell_type": "code",
   "execution_count": null,
   "metadata": {},
   "outputs": [],
   "source": [
    "'''\n",
    "@calculate_time\n",
    "def func():\n",
    "\tprint('this is function')\n",
    "\n",
    "func()\n",
    "this function took 3 sec to run\n",
    "\n",
    "'''\n",
    "\n",
    "#Exercise  solutions\n",
    "from functools import wraps\n",
    "import time\n",
    "def calculate_time(function):\n",
    "    @wraps(function)\n",
    "    def wrapper(*args, **kwargs):\n",
    "        print(f\"Executing .... {function.__name__}\")\n",
    "        t1 = time.time()\n",
    "        returned_value = function(*args, **kwargs)\n",
    "        t2 = time.time()\n",
    "        total_time= t2 - t1\n",
    "        print(f\"This function took {total_time} seconde \")\n",
    "        return returned_value\n",
    "    return wrapper\n",
    "\n",
    "@calculate_time\n",
    "def square_finder(n):\n",
    "    return [i**2 for i in range(1,n+1)]\n",
    "square_finder(1000)"
   ]
  }
 ],
 "metadata": {
  "kernelspec": {
   "display_name": "Python 3",
   "language": "python",
   "name": "python3"
  },
  "language_info": {
   "codemirror_mode": {
    "name": "ipython",
    "version": 3
   },
   "file_extension": ".py",
   "mimetype": "text/x-python",
   "name": "python",
   "nbconvert_exporter": "python",
   "pygments_lexer": "ipython3",
   "version": "3.7.1"
  }
 },
 "nbformat": 4,
 "nbformat_minor": 2
}
