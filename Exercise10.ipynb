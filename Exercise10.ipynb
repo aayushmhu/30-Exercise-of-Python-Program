{
 "cells": [
  {
   "cell_type": "code",
   "execution_count": null,
   "metadata": {},
   "outputs": [],
   "source": [
    "#Exercise 6\n",
    "#Modify gussing Number Exercise\n",
    "#import random\n",
    "#winning_number = random.randint(1,100)\n",
    "\n",
    "#Solution\n",
    "import random\n",
    "winning_number = random.randint(1,100)\n",
    "\n",
    "guess = 1\n",
    "number = int(input(\"guess a number between 1 and 100 : \"))\n",
    "game_over = False\n",
    "\n",
    "while not game_over:\n",
    "    if number == winning_number:\n",
    "        print(f\"You Win, and You Guessed This number in {guess} times \")\n",
    "        game_over = True\n",
    "    else:\n",
    "        if number < winning_number:\n",
    "            print(\"Too Low\")\n",
    "            guess += 1\n",
    "            number = int(input(\"Guess Again : \"))\n",
    "        else :\n",
    "            print(\"Too High\")\n",
    "            guess += 1\n",
    "            number = int(input(\"Guess Again : \"))"
   ]
  },
  {
   "cell_type": "code",
   "execution_count": null,
   "metadata": {},
   "outputs": [],
   "source": []
  }
 ],
 "metadata": {
  "kernelspec": {
   "display_name": "Python 3",
   "language": "python",
   "name": "python3"
  },
  "language_info": {
   "codemirror_mode": {
    "name": "ipython",
    "version": 3
   },
   "file_extension": ".py",
   "mimetype": "text/x-python",
   "name": "python",
   "nbconvert_exporter": "python",
   "pygments_lexer": "ipython3",
   "version": "3.7.1"
  }
 },
 "nbformat": 4,
 "nbformat_minor": 2
}
