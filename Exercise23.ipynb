{
 "cells": [
  {
   "cell_type": "code",
   "execution_count": null,
   "metadata": {},
   "outputs": [],
   "source": [
    "#Exercise \n",
    "'''\n",
    "define a function\n",
    "input\n",
    "num , iterable(tuple , list) containing numbers as args\n",
    "\n",
    "Example:\n",
    "nums = [1,2,3]\n",
    "to_power(3, *nums)\n",
    "\n",
    "Output:\n",
    "list--------> [1**3, 8, 27]\n",
    "\n",
    "if user didn't pass any args then give a user a message 'hey you did't pass args\n",
    "\n",
    "else return list\n",
    "\n",
    "NOTE- USE list comprehension\n",
    "'''\n",
    "\n",
    "\n",
    "#Solutions\n",
    "\n",
    "def to_power(num, *args):\n",
    "    if args:\n",
    "        return [i**num for i in args]\n",
    "    else:\n",
    "        return \"You didn't pass any args\"\n",
    "\n",
    "nums = [1,2,3]\n",
    "print(to_power(3,*nums))"
   ]
  }
 ],
 "metadata": {
  "kernelspec": {
   "display_name": "Python 3",
   "language": "python",
   "name": "python3"
  },
  "language_info": {
   "codemirror_mode": {
    "name": "ipython",
    "version": 3
   },
   "file_extension": ".py",
   "mimetype": "text/x-python",
   "name": "python",
   "nbconvert_exporter": "python",
   "pygments_lexer": "ipython3",
   "version": "3.7.1"
  }
 },
 "nbformat": 4,
 "nbformat_minor": 2
}
