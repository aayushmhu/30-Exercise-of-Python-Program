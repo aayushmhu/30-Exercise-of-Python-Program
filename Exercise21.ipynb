{
 "cells": [
  {
   "cell_type": "code",
   "execution_count": null,
   "metadata": {},
   "outputs": [],
   "source": [
    "#Exercise \n",
    "'''\n",
    "define a function that take list of strings\n",
    "list containing reverse of every string\n",
    "\n",
    "Note- Use list comprehension because we already did this exercise \n",
    "using normal method \n",
    "\n",
    "#example\n",
    "l = ['abc', 'tuv', 'xyz']\n",
    "reverse_string(l)-----> ['cba', 'vut', 'zyx']\n",
    "\n",
    "'''\n",
    "\n",
    "#Exercise  solutions\n",
    "def reverse_strings(l):\n",
    "    return [name[::-1] for name in l]\n",
    "\n",
    "print(reverse_strings(['abc','tuv','xyz']))\n"
   ]
  }
 ],
 "metadata": {
  "kernelspec": {
   "display_name": "Python 3",
   "language": "python",
   "name": "python3"
  },
  "language_info": {
   "codemirror_mode": {
    "name": "ipython",
    "version": 3
   },
   "file_extension": ".py",
   "mimetype": "text/x-python",
   "name": "python",
   "nbconvert_exporter": "python",
   "pygments_lexer": "ipython3",
   "version": "3.7.1"
  }
 },
 "nbformat": 4,
 "nbformat_minor": 2
}
