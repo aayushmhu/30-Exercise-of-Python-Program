{
 "cells": [
  {
   "cell_type": "code",
   "execution_count": null,
   "metadata": {},
   "outputs": [],
   "source": [
    "#Here is exercise for chapter 2 \n",
    "#Ask user to input 3 numbers and you have to print average of three numbers using string formating  ??\n",
    "#Bouns :- try to take all threee comma seprated inputs in one line \n",
    "\n",
    "#Here is exercise 1 Solution  for chapter 2 \n",
    "#Ask user to input 3 numbers and you have to print average of three numbers using string formating  ??\n",
    "'''\n",
    "#First Method \n",
    "num1 = int(input(\"Enter First Number \"))\n",
    "num2 = int(input(\"Enter Second Number \"))\n",
    "num3 = int(input(\"Enter Third number \"))\n",
    "num4 = (num1+num2+num3)/3\n",
    "print(f\"Average of your three numbers is {num4}\")\n",
    "'''\n",
    "'''\n",
    "#Second Method \n",
    "number1 = input(\"Enter First Number : \")\n",
    "number2 = input(\"Enter Second Number : \")\n",
    "number3 = input(\"Enter Third Number : \")\n",
    "\n",
    "#(int(number1)+int(number2)+int(number3))/3\n",
    "print(f\"average of three numbers : {(int(number1)+int(number2)+int(number3))/3}\")\n",
    "'''\n",
    "#Third Method \n",
    "num1, num2, num3 = input(\"Enter Three number (Seprate with comma ) : \").split(\",\")\n",
    "print(f\"average of three numbers : {(int(num1)+int(num2)+int(num3))/3}\")\n"
   ]
  }
 ],
 "metadata": {
  "kernelspec": {
   "display_name": "Python 3",
   "language": "python",
   "name": "python3"
  },
  "language_info": {
   "codemirror_mode": {
    "name": "ipython",
    "version": 3
   },
   "file_extension": ".py",
   "mimetype": "text/x-python",
   "name": "python",
   "nbconvert_exporter": "python",
   "pygments_lexer": "ipython3",
   "version": "3.7.1"
  }
 },
 "nbformat": 4,
 "nbformat_minor": 2
}
