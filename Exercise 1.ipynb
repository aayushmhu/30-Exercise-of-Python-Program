{
 "cells": [
  {
   "cell_type": "code",
   "execution_count": null,
   "metadata": {},
   "outputs": [],
   "source": [
    "#Here is a Exercise for your Chapter First \n",
    "'''\n",
    "    1). Print : This is \\\\ double Backslash \n",
    "    2). Print : These are /\\/\\/\\/\\/\\ Mountain \n",
    "    3). Print : He is       Awesome (Make This Space use escape Sequence)\n",
    "    4). Print : \\\" \\n \\t \\'     (Print This as a output)\n",
    "\n",
    "'''\n",
    "\n",
    "print(\"This is \\\\\\\\\\ Double Backslash\")\n",
    "\n",
    "print(\"These are /\\\\/\\\\/\\\\/\\\\/\\\\  Mountain\")\n",
    "\n",
    "print(\"He is \\t Awesome \")\n",
    "\n",
    "print(\"\\\\\\\" \\\\n \\\\t \\\\' \")"
   ]
  }
 ],
 "metadata": {
  "kernelspec": {
   "display_name": "Python 3",
   "language": "python",
   "name": "python3"
  },
  "language_info": {
   "codemirror_mode": {
    "name": "ipython",
    "version": 3
   },
   "file_extension": ".py",
   "mimetype": "text/x-python",
   "name": "python",
   "nbconvert_exporter": "python",
   "pygments_lexer": "ipython3",
   "version": "3.7.1"
  }
 },
 "nbformat": 4,
 "nbformat_minor": 2
}
