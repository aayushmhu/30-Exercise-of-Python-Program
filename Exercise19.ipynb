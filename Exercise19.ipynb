{
 "cells": [
  {
   "cell_type": "code",
   "execution_count": null,
   "metadata": {},
   "outputs": [],
   "source": [
    "'''\n",
    "define a function that takes a number(n)\n",
    "return a dictionary containing cube of numbers 1 to n\n",
    "\n",
    "Example:-\n",
    "cube_finder(3)\n",
    "{1:1, 2:8, 3:27 }\n",
    "\n",
    "\n",
    "'''\n",
    "\n",
    "#Exercise  solutions\n",
    "\n",
    "def cube_finder(n):\n",
    "    cubes = {}\n",
    "    for i in  range(1, n+1):\n",
    "        cubes[i] = i**3\n",
    "    return cubes\n",
    "\n",
    "print(cube_finder(10))\n"
   ]
  }
 ],
 "metadata": {
  "kernelspec": {
   "display_name": "Python 3",
   "language": "python",
   "name": "python3"
  },
  "language_info": {
   "codemirror_mode": {
    "name": "ipython",
    "version": 3
   },
   "file_extension": ".py",
   "mimetype": "text/x-python",
   "name": "python",
   "nbconvert_exporter": "python",
   "pygments_lexer": "ipython3",
   "version": "3.7.1"
  }
 },
 "nbformat": 4,
 "nbformat_minor": 2
}
