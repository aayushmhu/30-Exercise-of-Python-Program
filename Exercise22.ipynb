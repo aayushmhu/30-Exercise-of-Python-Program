{
 "cells": [
  {
   "cell_type": "code",
   "execution_count": null,
   "metadata": {},
   "outputs": [],
   "source": [
    "'''\n",
    "\n",
    "num to string\n",
    "define a function\n",
    "\n",
    "Example:\n",
    "input--------> [true, false, [1,2,3], 1.0,3]\n",
    "output-------> ['1', '1.0', '3']\n",
    "'''\n",
    "\n",
    "#Exercise  solutions\n",
    "def num_to_string(l):\n",
    "    return [str(i) for i in l if (type(i) == int or type(i) == float)]\n",
    "\n",
    "print(num_to_string([True, False, [1,2,3], 1, 1.0, 3]))"
   ]
  }
 ],
 "metadata": {
  "kernelspec": {
   "display_name": "Python 3",
   "language": "python",
   "name": "python3"
  },
  "language_info": {
   "codemirror_mode": {
    "name": "ipython",
    "version": 3
   },
   "file_extension": ".py",
   "mimetype": "text/x-python",
   "name": "python",
   "nbconvert_exporter": "python",
   "pygments_lexer": "ipython3",
   "version": "3.7.1"
  }
 },
 "nbformat": 4,
 "nbformat_minor": 2
}
