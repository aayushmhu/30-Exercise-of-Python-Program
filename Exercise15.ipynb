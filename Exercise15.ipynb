{
 "cells": [
  {
   "cell_type": "code",
   "execution_count": null,
   "metadata": {},
   "outputs": [],
   "source": [
    "'''\n",
    "#exercise 3\n",
    "define a function that take list of words as argument and return list with reverse of every element in that list\n",
    "\n",
    "Exemple:\n",
    "['abc','tuv','xyz']===> ['cba','vut','zyx']\n",
    "'''\n",
    "\n",
    "#Exercise 3 solutions\n",
    "def reverse_elements(l):\n",
    "    elements = []\n",
    "    for i in l:\n",
    "        elements.append(i[::-1])\n",
    "    return elements\n",
    "\n",
    "words = ['abc','tuv','xyz']\n",
    "print(reverse_elements(words))"
   ]
  }
 ],
 "metadata": {
  "kernelspec": {
   "display_name": "Python 3",
   "language": "python",
   "name": "python3"
  },
  "language_info": {
   "codemirror_mode": {
    "name": "ipython",
    "version": 3
   },
   "file_extension": ".py",
   "mimetype": "text/x-python",
   "name": "python",
   "nbconvert_exporter": "python",
   "pygments_lexer": "ipython3",
   "version": "3.7.1"
  }
 },
 "nbformat": 4,
 "nbformat_minor": 2
}
