{
 "cells": [
  {
   "cell_type": "code",
   "execution_count": null,
   "metadata": {},
   "outputs": [],
   "source": [
    "#exercise \n",
    "# make a function divide(a,b)\n",
    "\n",
    "# print(divide(4,2))\t#2\n",
    "# print(divide(4,0))\t#please don't divide by zero\n",
    "# print(divide('4',2))\n",
    "\n",
    "\n",
    "#exercise solution\n",
    "def divide(a,b):\n",
    "    try:\n",
    "        return a/b\n",
    "    except ZeroDivisionError as err:\n",
    "        print(err)\n",
    "        # print(\"Zero is not divide\")\n",
    "    except TypeError as err:\n",
    "        print(err)\n",
    "    except:\n",
    "        print(\"Please enter right values..\")\n",
    "\n",
    "print(divide(4,8))"
   ]
  }
 ],
 "metadata": {
  "kernelspec": {
   "display_name": "Python 3",
   "language": "python",
   "name": "python3"
  },
  "language_info": {
   "codemirror_mode": {
    "name": "ipython",
    "version": 3
   },
   "file_extension": ".py",
   "mimetype": "text/x-python",
   "name": "python",
   "nbconvert_exporter": "python",
   "pygments_lexer": "ipython3",
   "version": "3.7.1"
  }
 },
 "nbformat": 4,
 "nbformat_minor": 2
}
