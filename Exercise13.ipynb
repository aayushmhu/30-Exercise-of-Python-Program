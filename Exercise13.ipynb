{
 "cells": [
  {
   "cell_type": "code",
   "execution_count": null,
   "metadata": {},
   "outputs": [],
   "source": [
    "'''\n",
    "#Exercise 1\n",
    "Define a function which will take list containing numbers as input and return containing square of every elements\n",
    "\n",
    "Example \n",
    "numbers = [1,2,3,4]\n",
    "square_list(numbers) --------> return --------> [1,2,9,16]\n",
    "\n",
    "'''\n",
    "\n",
    "#Exercise 2 solutions\n",
    "numbers = [1, 2, 3, 4, 5, 6, 7, 8, 9]\n",
    "\n",
    "def square_list(l):\n",
    "    square = []\n",
    "    for i in l:\n",
    "        square.append(i**2)\n",
    "    return square\n",
    "\n",
    "print(square_list(numbers))"
   ]
  }
 ],
 "metadata": {
  "kernelspec": {
   "display_name": "Python 3",
   "language": "python",
   "name": "python3"
  },
  "language_info": {
   "codemirror_mode": {
    "name": "ipython",
    "version": 3
   },
   "file_extension": ".py",
   "mimetype": "text/x-python",
   "name": "python",
   "nbconvert_exporter": "python",
   "pygments_lexer": "ipython3",
   "version": "3.7.1"
  }
 },
 "nbformat": 4,
 "nbformat_minor": 2
}
