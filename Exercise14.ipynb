{
 "cells": [
  {
   "cell_type": "code",
   "execution_count": null,
   "metadata": {},
   "outputs": [],
   "source": [
    "'''\n",
    "Exercise 2\n",
    "Define a function which will take list as a arguments and this function will return a reversed list\n",
    "\n",
    "Examples:\n",
    "[1,2,3,4] ===> [4,3,2,1]\n",
    "['word1','word2'] ----> ['word2' , 'word1']\n",
    "\n",
    "Note you simply do this with reverse method or [::-1]\n",
    "\n",
    "but try to do this with the help of append and pop method\n",
    "'''\n",
    "\n",
    "#Exercise 2 solutions\n",
    "#First Method\n",
    "def reverse_list(l):\n",
    "    l.reverse()\n",
    "    return l\n",
    "\n",
    "numbers = [1,2,3,4]\n",
    "print(reverse_list(numbers))\n",
    "\n",
    "#Second Method\n",
    "def reverse_list(l):\n",
    "    return l[::-1]\n",
    "\n",
    "numbers = [1,2,3,4]\n",
    "print(reverse_list(numbers))\n",
    "\n",
    "#third method\n",
    "def reverse_list(l):\n",
    "    r_list = []\n",
    "    for i in range(len(l)):\n",
    "        popped_item = l.pop()\n",
    "        r_list.append(popped_item)\n",
    "    return r_list\n",
    "\n",
    "print(reverse_list(numbers))\n",
    "\n",
    "\n"
   ]
  }
 ],
 "metadata": {
  "kernelspec": {
   "display_name": "Python 3",
   "language": "python",
   "name": "python3"
  },
  "language_info": {
   "codemirror_mode": {
    "name": "ipython",
    "version": 3
   },
   "file_extension": ".py",
   "mimetype": "text/x-python",
   "name": "python",
   "nbconvert_exporter": "python",
   "pygments_lexer": "ipython3",
   "version": "3.7.1"
  }
 },
 "nbformat": 4,
 "nbformat_minor": 2
}
