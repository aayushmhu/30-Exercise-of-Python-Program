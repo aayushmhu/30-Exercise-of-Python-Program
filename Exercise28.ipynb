{
 "cells": [
  {
   "cell_type": "code",
   "execution_count": null,
   "metadata": {},
   "outputs": [],
   "source": [
    "# file 1==>\n",
    "# Aayush,1000\n",
    "# Gourav,2000\n",
    "\n",
    "#Convert one file to another file\n",
    "\n",
    "# File 2===>\n",
    "# Aayush Sallary is 1000\n",
    "# Gourav Sallary is 2000\n",
    "#Aayush,1000\n",
    "#Gourav,2000\n",
    "#=====>\n",
    "# Aayush Sallary is 1000\n",
    "# Gourav Sallary is 2000\n",
    "\n",
    "\n",
    "with open('sallary.txt', 'r') as rf:\n",
    "    with open('output.txt', 'a') as wf:\n",
    "        for line in rf.readlines():\n",
    "            name,sallary = line.split(',')\n",
    "            wf.write(f\"{name}'s Sallary is {sallary}\")\n",
    "            "
   ]
  }
 ],
 "metadata": {
  "kernelspec": {
   "display_name": "Python 3",
   "language": "python",
   "name": "python3"
  },
  "language_info": {
   "codemirror_mode": {
    "name": "ipython",
    "version": 3
   },
   "file_extension": ".py",
   "mimetype": "text/x-python",
   "name": "python",
   "nbconvert_exporter": "python",
   "pygments_lexer": "ipython3",
   "version": "3.7.1"
  }
 },
 "nbformat": 4,
 "nbformat_minor": 2
}
