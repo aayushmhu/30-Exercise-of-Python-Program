{
 "cells": [
  {
   "cell_type": "code",
   "execution_count": null,
   "metadata": {},
   "outputs": [],
   "source": [
    "with open('index.html','r') as webpage:\n",
    "    with open('output2.txt' , 'a') as wf:\n",
    "        page = webpage.read()\n",
    "        link_exist = True\n",
    "        while link_exist:\n",
    "            pos = page.find('<a href=')\n",
    "            if pos == -1:\n",
    "                link_exist = False\n",
    "            else:\n",
    "                first_quote = page.find('\\\"',pos)\n",
    "                second_quote = page.find('\\\"',first_quote+1)\n",
    "                url = page[first_quote+1:second_quote]\n",
    "                wf.write(url + '\\n')\n",
    "                page = page[second_quote:]\n",
    "                "
   ]
  }
 ],
 "metadata": {
  "kernelspec": {
   "display_name": "Python 3",
   "language": "python",
   "name": "python3"
  },
  "language_info": {
   "codemirror_mode": {
    "name": "ipython",
    "version": 3
   },
   "file_extension": ".py",
   "mimetype": "text/x-python",
   "name": "python",
   "nbconvert_exporter": "python",
   "pygments_lexer": "ipython3",
   "version": "3.7.1"
  }
 },
 "nbformat": 4,
 "nbformat_minor": 2
}
