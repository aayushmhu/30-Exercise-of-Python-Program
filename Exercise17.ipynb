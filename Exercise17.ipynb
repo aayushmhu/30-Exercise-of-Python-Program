{
 "cells": [
  {
   "cell_type": "code",
   "execution_count": null,
   "metadata": {},
   "outputs": [],
   "source": [
    "\n",
    "'''\n",
    "comman elements finder function\n",
    "define a functions which take lists as input and return a list\n",
    "which contains comman elements of both lists\n",
    "\n",
    "Example:\n",
    "input ===> [1,2,5,8] , [1,2,7,6]\n",
    "output ==> [1,2]\n",
    "\n",
    "\n",
    "'''\n",
    "\n",
    "#Solutions exercise \n",
    "#Method first\n",
    "def comman_items(l,m):\n",
    "    comman = []\n",
    "    for i in l:\n",
    "        for j in m:\n",
    "            if i == j:\n",
    "                comman.append(i)\n",
    "            else:\n",
    "                pass\n",
    "    return comman\n",
    "\n",
    "num1 = [1,2,5,8]\n",
    "num2 = [1,2,7,6]\n",
    "print(comman_items(num1,num2))\n",
    "\n",
    "#Method second\n",
    "def comman_finder(l1,l2):\n",
    "    output = []\n",
    "    for i in l1:\n",
    "        if i in l2:\n",
    "            output.append(i)\n",
    "    return output\n",
    "\n",
    "print(comman_finder([1,2,5,8], [1,2,7,6]))\n"
   ]
  }
 ],
 "metadata": {
  "kernelspec": {
   "display_name": "Python 3",
   "language": "python",
   "name": "python3"
  },
  "language_info": {
   "codemirror_mode": {
    "name": "ipython",
    "version": 3
   },
   "file_extension": ".py",
   "mimetype": "text/x-python",
   "name": "python",
   "nbconvert_exporter": "python",
   "pygments_lexer": "ipython3",
   "version": "3.7.1"
  }
 },
 "nbformat": 4,
 "nbformat_minor": 2
}
