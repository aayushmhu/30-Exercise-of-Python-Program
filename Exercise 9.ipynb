{
 "cells": [
  {
   "cell_type": "code",
   "execution_count": null,
   "metadata": {},
   "outputs": [],
   "source": [
    "'''\n",
    "ask a user for name\n",
    "Example - Aayush Saini\n",
    "print count of each words\n",
    "output:\n",
    "    A : 1\n",
    "    a : 2\n",
    "    y : 1\n",
    "    u : 1\n",
    "    s : 1\n",
    "    h : 1\n",
    "    S : 1\n",
    "    i : 2\n",
    "    n : 1\n",
    "'''\n",
    "\n",
    "str = input(\"Enter an string  : \")\n",
    "\n",
    "i = 0\n",
    "\n",
    "while str:\n",
    "\n",
    "    print(f\"No. of '{str[0]}' in string is {str.count(str[0])}\")\n",
    "    str = str.replace(str[0], \"\")\n",
    "\n",
    "\n",
    "name=input(\"Enter A string: \")\n",
    "temp_var = \"\"\n",
    "i = 0\n",
    "while i < len(name):\n",
    "    if name[i] not in temp_var:\n",
    "        temp_var += name[i]\n",
    "        print(f\"{name[i]} : {name.count(name[i])}\")\n",
    "        i += 1\n",
    "    else:\n",
    "        pass\n",
    "\n"
   ]
  }
 ],
 "metadata": {
  "kernelspec": {
   "display_name": "Python 3",
   "language": "python",
   "name": "python3"
  },
  "language_info": {
   "codemirror_mode": {
    "name": "ipython",
    "version": 3
   },
   "file_extension": ".py",
   "mimetype": "text/x-python",
   "name": "python",
   "nbconvert_exporter": "python",
   "pygments_lexer": "ipython3",
   "version": "3.7.1"
  }
 },
 "nbformat": 4,
 "nbformat_minor": 2
}
