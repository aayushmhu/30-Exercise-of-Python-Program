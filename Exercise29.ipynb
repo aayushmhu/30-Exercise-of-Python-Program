{
 "cells": [
  {
   "cell_type": "code",
   "execution_count": 1,
   "metadata": {},
   "outputs": [],
   "source": [
    "#find all links in index.html file using python\n",
    "\n",
    "with open('index.html','r') as webpage:\n",
    "    with open('output.txt','a') as wf:\n",
    "        for line in webpage.readlines():\n",
    "            if '<a href=' in line:\n",
    "                pos = line.find('<a href=')\n",
    "                first_quote = line.find('\\\"',pos)\n",
    "                second_quote = line.find('\\\"',first_quote+1)\n",
    "                url = line[first_quote+1:second_quote]\n",
    "                wf.write(url + '\\n')\n",
    "                \n"
   ]
  },
  {
   "cell_type": "code",
   "execution_count": null,
   "metadata": {},
   "outputs": [],
   "source": []
  }
 ],
 "metadata": {
  "kernelspec": {
   "display_name": "Python 3",
   "language": "python",
   "name": "python3"
  },
  "language_info": {
   "codemirror_mode": {
    "name": "ipython",
    "version": 3
   },
   "file_extension": ".py",
   "mimetype": "text/x-python",
   "name": "python",
   "nbconvert_exporter": "python",
   "pygments_lexer": "ipython3",
   "version": "3.7.1"
  }
 },
 "nbformat": 4,
 "nbformat_minor": 2
}
