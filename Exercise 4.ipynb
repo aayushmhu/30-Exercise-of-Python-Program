{
 "cells": [
  {
   "cell_type": "code",
   "execution_count": null,
   "metadata": {},
   "outputs": [],
   "source": [
    "'''\n",
    "Take two comma separated inputs from user\n",
    "1). user's name\n",
    "2). a single character\n",
    "output: 2 print lines\n",
    "1). user's name length\n",
    "2). count the character taht user inputes(bouns: case insensitive count)\n",
    "\n",
    "'''\n",
    "\n",
    "name, char = input(\"Enter  name and a single character you want count the length(Comma Seprated) : \").split(\",\")\n",
    "print(f\"Length of Your input is:  {len(name)} \")\n",
    "print(f\"Your input  {char} is {name.lower().count(char.lower())} times \")"
   ]
  }
 ],
 "metadata": {
  "kernelspec": {
   "display_name": "Python 3",
   "language": "python",
   "name": "python3"
  },
  "language_info": {
   "codemirror_mode": {
    "name": "ipython",
    "version": 3
   },
   "file_extension": ".py",
   "mimetype": "text/x-python",
   "name": "python",
   "nbconvert_exporter": "python",
   "pygments_lexer": "ipython3",
   "version": "3.7.1"
  }
 },
 "nbformat": 4,
 "nbformat_minor": 2
}
