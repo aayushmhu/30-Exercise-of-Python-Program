{
 "cells": [
  {
   "cell_type": "code",
   "execution_count": null,
   "metadata": {},
   "outputs": [],
   "source": [
    "'''\n",
    "filter odd even\n",
    "define a function\n",
    "input \n",
    "list = [1,2,3,4,5,6,7]\n",
    "output = [[1,3,5,7],[2,4,6]]\n",
    "'''\n",
    "\n",
    "#Exercise 4 solutions\n",
    "\n",
    "def filter_odd_even(l):\n",
    "    odd_nums = []\n",
    "    even_nums = []\n",
    "    for i in l:\n",
    "        if i % 2 == 0:\n",
    "            even_nums.append(i)\n",
    "        else:\n",
    "            odd_nums.append(i)\n",
    "    output = [odd_nums, even_nums]\n",
    "    return output\n",
    "\n",
    "nums = [1,2,3,4,5,6,7]\n",
    "print(filter_odd_even(nums))\n"
   ]
  }
 ],
 "metadata": {
  "kernelspec": {
   "display_name": "Python 3",
   "language": "python",
   "name": "python3"
  },
  "language_info": {
   "codemirror_mode": {
    "name": "ipython",
    "version": 3
   },
   "file_extension": ".py",
   "mimetype": "text/x-python",
   "name": "python",
   "nbconvert_exporter": "python",
   "pygments_lexer": "ipython3",
   "version": "3.7.1"
  }
 },
 "nbformat": 4,
 "nbformat_minor": 2
}
