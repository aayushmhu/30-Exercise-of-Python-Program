{
 "cells": [
  {
   "cell_type": "code",
   "execution_count": null,
   "metadata": {},
   "outputs": [],
   "source": [
    "#Exercise \n",
    "'''\n",
    "print(func(names))\n",
    "['Aayush', 'Gourav']\n",
    "########\n",
    "print(func(names, reverse_str =True))\n",
    "['Hsuyaa' , 'Varuog']\n",
    "\n",
    "\n",
    "'''\n",
    "\n",
    "#Exercise  solutions\n",
    "def func(l, **kwargs):\n",
    "    if kwargs.get('reverse_str') == True:\n",
    "        return [name[::-1].title() for name in l]\n",
    "    else:\n",
    "        return [name.title() for name in l]\n",
    "\n",
    "names = ['aayush', 'gourav']\n",
    "print(func(names,reverse_str = True))"
   ]
  }
 ],
 "metadata": {
  "kernelspec": {
   "display_name": "Python 3",
   "language": "python",
   "name": "python3"
  },
  "language_info": {
   "codemirror_mode": {
    "name": "ipython",
    "version": 3
   },
   "file_extension": ".py",
   "mimetype": "text/x-python",
   "name": "python",
   "nbconvert_exporter": "python",
   "pygments_lexer": "ipython3",
   "version": "3.7.1"
  }
 },
 "nbformat": 4,
 "nbformat_minor": 2
}
