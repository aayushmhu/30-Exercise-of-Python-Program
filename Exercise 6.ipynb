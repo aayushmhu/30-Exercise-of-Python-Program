{
 "cells": [
  {
   "cell_type": "code",
   "execution_count": null,
   "metadata": {},
   "outputs": [],
   "source": [
    "'''\n",
    "Exercise - WATCH COCO\n",
    "Ask User's name and age\n",
    "If user's name start with ('a' , 'A') and age is above 10 then print 'you can watch coco movie'\n",
    "else print 'Sorry, you cannot watch coco'\n",
    "\n",
    "\n",
    "\n",
    "'''\n",
    "\n",
    "user_name = input(\"Please Enter Your name: \")\n",
    "user_age = input(\"Please Enter Your Age : \")\n",
    "user_age = int(user_age)\n",
    "if user_age >= 10 and (user_name == 'a' or user_name == 'A'):\n",
    "    print(\"You Can Watch Coco\")\n",
    "else:\n",
    "    print(\"You cannot Watch COCO\")"
   ]
  }
 ],
 "metadata": {
  "kernelspec": {
   "display_name": "Python 3",
   "language": "python",
   "name": "python3"
  },
  "language_info": {
   "codemirror_mode": {
    "name": "ipython",
    "version": 3
   },
   "file_extension": ".py",
   "mimetype": "text/x-python",
   "name": "python",
   "nbconvert_exporter": "python",
   "pygments_lexer": "ipython3",
   "version": "3.7.1"
  }
 },
 "nbformat": 4,
 "nbformat_minor": 2
}
