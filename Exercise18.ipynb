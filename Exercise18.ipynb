{
 "cells": [
  {
   "cell_type": "code",
   "execution_count": null,
   "metadata": {},
   "outputs": [],
   "source": [
    "'''\n",
    "function\n",
    "[1,2,3, [1,2], [3,4]], input\n",
    "output : 2\n",
    "type()\n",
    "\n",
    "'''\n",
    "\n",
    "#exercise  solutions\n",
    "def list_check(l):\n",
    "    count = 0\n",
    "    for i in l:\n",
    "        if type(i) == list:\n",
    "            count += 1\n",
    "    return count\n",
    "\n",
    "print(list_check([1,2,3, [1,2], [3,4]]))\n"
   ]
  }
 ],
 "metadata": {
  "kernelspec": {
   "display_name": "Python 3",
   "language": "python",
   "name": "python3"
  },
  "language_info": {
   "codemirror_mode": {
    "name": "ipython",
    "version": 3
   },
   "file_extension": ".py",
   "mimetype": "text/x-python",
   "name": "python",
   "nbconvert_exporter": "python",
   "pygments_lexer": "ipython3",
   "version": "3.7.1"
  }
 },
 "nbformat": 4,
 "nbformat_minor": 2
}
